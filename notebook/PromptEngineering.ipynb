{
 "cells": [
  {
   "cell_type": "code",
   "execution_count": 2,
   "metadata": {},
   "outputs": [],
   "source": [
    "import os\n",
    "import openapikey as OPENAI_API_KEY\n",
    "os.environ[\"OPENAI_API_KEY\"] = 'OPENAI_API_KEY'"
   ]
  },
  {
   "cell_type": "code",
   "execution_count": 3,
   "metadata": {},
   "outputs": [
    {
     "data": {
      "text/plain": [
       "' I want you to act as acting financial advisor for people. \\nIn an easy way explain the basics of income tax'"
      ]
     },
     "execution_count": 3,
     "metadata": {},
     "output_type": "execute_result"
    }
   ],
   "source": [
    "from langchain import PromptTemplate\n",
    "\n",
    "demo_template = ''' I want you to act as acting financial advisor for people. \n",
    "In an easy way explain the basics of {financial_concept}'''\n",
    "\n",
    "prompt = PromptTemplate(\n",
    "    input_variables=['financial_concept'],\n",
    "    template=demo_template\n",
    "    )\n",
    "\n",
    "prompt.format(financial_concept='income tax')\n",
    "\n"
   ]
  },
  {
   "cell_type": "code",
   "execution_count": 14,
   "metadata": {},
   "outputs": [],
   "source": [
    "from langchain.llms import OpenAI\n",
    "from langchain.chains import LLMChain\n",
    "\n",
    "llm = OpenAI(temperature=0.7)\n",
    "chain1 = LLMChain(llm=llm,prompt=prompt)"
   ]
  },
  {
   "cell_type": "code",
   "execution_count": 16,
   "metadata": {},
   "outputs": [
    {
     "data": {
      "text/plain": [
       "\"\\n\\nSure, I'd be happy to help! As a financial advisor, it's important for people to have a basic understanding of GDP (Gross Domestic Product) as it is a key measure of a country's economic health.\\n\\nGDP is the total value of all goods and services produced within a country's borders in a specific time period, usually a year. It includes everything from the food we eat, the clothes we wear, the cars we drive, to the services we use like healthcare, education, and transportation.\\n\\nThere are two main ways to calculate GDP: the expenditure approach and the income approach. The expenditure approach adds up all the money spent on final goods and services, while the income approach adds up all the income earned from producing those goods and services.\\n\\nGDP is important because it gives us a snapshot of a country's economic activity and growth. A higher GDP generally means a stronger economy and more opportunities for businesses and individuals.\\n\\nHowever, it's important to note that GDP is not a perfect measure of economic well-being. It doesn't take into account factors like income inequality, environmental impact, and quality of life. That's why it's important to also look at other indicators such as unemployment rate, inflation, and poverty levels to get a more complete picture of\""
      ]
     },
     "execution_count": 16,
     "metadata": {},
     "output_type": "execute_result"
    }
   ],
   "source": [
    "chain1.run('GDP')"
   ]
  },
  {
   "cell_type": "code",
   "execution_count": 17,
   "metadata": {},
   "outputs": [
    {
     "data": {
      "text/plain": [
       "\"\\n\\nSure, I'd be happy to act as your financial advisor and explain the basics of economics. Economics is the study of how individuals, businesses, and governments make decisions about allocating scarce resources to meet their unlimited wants and needs.\\n\\nAt its core, economics is based on the principle of supply and demand. This means that the prices of goods and services are determined by the balance between how much of a product or service is available (supply) and how much people want to buy (demand). When supply is high and demand is low, prices tend to be lower. On the other hand, when demand is high and supply is low, prices tend to be higher.\\n\\nAnother important concept in economics is opportunity cost. This refers to the cost of the next best alternative that is given up when a decision is made. For example, if you choose to spend your money on a new phone, the opportunity cost would be the other things you could have bought with that money.\\n\\nEconomics also involves the study of different types of markets, such as free markets and command economies. In a free market, prices are determined by the forces of supply and demand without government intervention. In contrast, in a command economy, the government controls the production and distribution of goods and services.\\n\\nMacroeconomics and\""
      ]
     },
     "execution_count": 17,
     "metadata": {},
     "output_type": "execute_result"
    }
   ],
   "source": [
    "chain1.run('economics')"
   ]
  },
  {
   "cell_type": "code",
   "execution_count": 18,
   "metadata": {},
   "outputs": [
    {
     "data": {
      "text/plain": [
       "\" and debt\\n\\nAs a financial advisor, it is important for individuals to have a basic understanding of deficit and debt. These two terms are often used interchangeably, but they actually have different meanings.\\n\\nDeficit refers to the amount by which a government’s or an individual’s spending exceeds their income. It is essentially the difference between the money coming in and the money going out. A budget deficit occurs when a government spends more than it earns in revenue, while a personal deficit occurs when an individual spends more money than they make.\\n\\nOn the other hand, debt is the total amount of money that is owed by a government or an individual. It is the accumulation of deficits over time. Governments and individuals can borrow money to cover their deficits, which results in them having debt.\\n\\nTo put it simply, deficit is an annual occurrence, while debt is the accumulation of deficits over time. Both deficit and debt can have significant impacts on the financial health of a government or an individual.\\n\\nFor governments, a high deficit can lead to an increase in national debt, which can result in higher taxes, inflation, and interest rates. This can also affect the overall economy and the country's ability to borrow money in the future.\\n\\nSimilarly, for individuals, consistently having a budget deficit and accumulating debt can lead\""
      ]
     },
     "execution_count": 18,
     "metadata": {},
     "output_type": "execute_result"
    }
   ],
   "source": [
    "chain1.run('deficit')"
   ]
  }
 ],
 "metadata": {
  "kernelspec": {
   "display_name": "Python 3",
   "language": "python",
   "name": "python3"
  },
  "language_info": {
   "codemirror_mode": {
    "name": "ipython",
    "version": 3
   },
   "file_extension": ".py",
   "mimetype": "text/x-python",
   "name": "python",
   "nbconvert_exporter": "python",
   "pygments_lexer": "ipython3",
   "version": "3.12.0"
  }
 },
 "nbformat": 4,
 "nbformat_minor": 2
}
