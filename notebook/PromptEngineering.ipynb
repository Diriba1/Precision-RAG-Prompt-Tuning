{
 "cells": [
  {
   "cell_type": "code",
   "execution_count": null,
   "metadata": {},
   "outputs": [],
   "source": [
    "import os\n",
    "from ..OpenAIAPIKey.openapikey import OPENAI_API_KEY as OPENAI_API_KEY\n",
    "os.environ[\"OPENAI_API_KEY\"] = 'OPENAI_API_KEY'"
   ]
  },
  {
   "cell_type": "code",
   "execution_count": 5,
   "metadata": {},
   "outputs": [
    {
     "data": {
      "text/plain": [
       "' I want you to act as acting financial advisor for people. \\nIn an easy way explain the basics of income tax'"
      ]
     },
     "execution_count": 5,
     "metadata": {},
     "output_type": "execute_result"
    }
   ],
   "source": [
    "from langchain import PromptTemplate\n",
    "\n",
    "demo_template = ''' I want you to act as acting financial advisor for people. \n",
    "In an easy way explain the basics of {financial_concept}'''\n",
    "\n",
    "prompt = PromptTemplate(\n",
    "    input_variables=['financial_concept'],\n",
    "    template=demo_template\n",
    "    )\n",
    "\n",
    "prompt.format(financial_concept='income tax')\n",
    "\n"
   ]
  },
  {
   "cell_type": "code",
   "execution_count": 6,
   "metadata": {},
   "outputs": [
    {
     "name": "stderr",
     "output_type": "stream",
     "text": [
      "c:\\Python312\\Lib\\site-packages\\langchain_core\\_api\\deprecation.py:117: LangChainDeprecationWarning: The class `langchain_community.llms.openai.OpenAI` was deprecated in langchain-community 0.0.10 and will be removed in 0.2.0. An updated version of the class exists in the langchain-openai package and should be used instead. To use it run `pip install -U langchain-openai` and import as `from langchain_openai import OpenAI`.\n",
      "  warn_deprecated(\n"
     ]
    }
   ],
   "source": [
    "from langchain.llms import OpenAI\n",
    "from langchain.chains import LLMChain\n",
    "\n",
    "llm = OpenAI(temperature=0.7)\n",
    "chain1 = LLMChain(llm=llm,prompt=prompt)"
   ]
  },
  {
   "cell_type": "code",
   "execution_count": null,
   "metadata": {},
   "outputs": [],
   "source": [
    "chain1.run('GDP')"
   ]
  },
  {
   "cell_type": "code",
   "execution_count": 17,
   "metadata": {},
   "outputs": [
    {
     "data": {
      "text/plain": [
       "\"\\n\\nSure, I'd be happy to act as your financial advisor and explain the basics of economics. Economics is the study of how individuals, businesses, and governments make decisions about allocating scarce resources to meet their unlimited wants and needs.\\n\\nAt its core, economics is based on the principle of supply and demand. This means that the prices of goods and services are determined by the balance between how much of a product or service is available (supply) and how much people want to buy (demand). When supply is high and demand is low, prices tend to be lower. On the other hand, when demand is high and supply is low, prices tend to be higher.\\n\\nAnother important concept in economics is opportunity cost. This refers to the cost of the next best alternative that is given up when a decision is made. For example, if you choose to spend your money on a new phone, the opportunity cost would be the other things you could have bought with that money.\\n\\nEconomics also involves the study of different types of markets, such as free markets and command economies. In a free market, prices are determined by the forces of supply and demand without government intervention. In contrast, in a command economy, the government controls the production and distribution of goods and services.\\n\\nMacroeconomics and\""
      ]
     },
     "execution_count": 17,
     "metadata": {},
     "output_type": "execute_result"
    }
   ],
   "source": [
    "chain1.run('economics')"
   ]
  },
  {
   "cell_type": "code",
   "execution_count": 18,
   "metadata": {},
   "outputs": [
    {
     "data": {
      "text/plain": [
       "\" and debt\\n\\nAs a financial advisor, it is important for individuals to have a basic understanding of deficit and debt. These two terms are often used interchangeably, but they actually have different meanings.\\n\\nDeficit refers to the amount by which a government’s or an individual’s spending exceeds their income. It is essentially the difference between the money coming in and the money going out. A budget deficit occurs when a government spends more than it earns in revenue, while a personal deficit occurs when an individual spends more money than they make.\\n\\nOn the other hand, debt is the total amount of money that is owed by a government or an individual. It is the accumulation of deficits over time. Governments and individuals can borrow money to cover their deficits, which results in them having debt.\\n\\nTo put it simply, deficit is an annual occurrence, while debt is the accumulation of deficits over time. Both deficit and debt can have significant impacts on the financial health of a government or an individual.\\n\\nFor governments, a high deficit can lead to an increase in national debt, which can result in higher taxes, inflation, and interest rates. This can also affect the overall economy and the country's ability to borrow money in the future.\\n\\nSimilarly, for individuals, consistently having a budget deficit and accumulating debt can lead\""
      ]
     },
     "execution_count": 18,
     "metadata": {},
     "output_type": "execute_result"
    }
   ],
   "source": [
    "chain1.run('deficit')"
   ]
  }
 ],
 "metadata": {
  "kernelspec": {
   "display_name": "Python 3",
   "language": "python",
   "name": "python3"
  },
  "language_info": {
   "codemirror_mode": {
    "name": "ipython",
    "version": 3
   },
   "file_extension": ".py",
   "mimetype": "text/x-python",
   "name": "python",
   "nbconvert_exporter": "python",
   "pygments_lexer": "ipython3",
   "version": "3.12.0"
  }
 },
 "nbformat": 4,
 "nbformat_minor": 2
}
