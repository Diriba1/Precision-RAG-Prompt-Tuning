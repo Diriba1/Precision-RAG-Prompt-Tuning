{
 "cells": [
  {
   "cell_type": "code",
   "execution_count": 2,
   "metadata": {},
   "outputs": [],
   "source": [
    "import os\n",
    "os.environ[\"OPENAI_API_KEY\"] = 'openai_api_key'"
   ]
  },
  {
   "cell_type": "code",
   "execution_count": 3,
   "metadata": {},
   "outputs": [
    {
     "data": {
      "text/plain": [
       "' I want you to act as acting financial advisor for people. \\nIn an easy way explain the basics of income tax'"
      ]
     },
     "execution_count": 3,
     "metadata": {},
     "output_type": "execute_result"
    }
   ],
   "source": [
    "from langchain import PromptTemplate\n",
    "\n",
    "demo_template = ''' I want you to act as acting financial advisor for people. \n",
    "In an easy way explain the basics of {financial_concept}'''\n",
    "\n",
    "prompt = PromptTemplate(\n",
    "    input_variables=['financial_concept'],\n",
    "    template=demo_template\n",
    "    )\n",
    "\n",
    "prompt.format(financial_concept='income tax')\n",
    "\n"
   ]
  },
  {
   "cell_type": "code",
   "execution_count": 4,
   "metadata": {},
   "outputs": [
    {
     "name": "stderr",
     "output_type": "stream",
     "text": [
      "c:\\Python312\\Lib\\site-packages\\langchain_core\\_api\\deprecation.py:117: LangChainDeprecationWarning: The class `langchain_community.llms.openai.OpenAI` was deprecated in langchain-community 0.0.10 and will be removed in 0.2.0. An updated version of the class exists in the langchain-openai package and should be used instead. To use it run `pip install -U langchain-openai` and import as `from langchain_openai import OpenAI`.\n",
      "  warn_deprecated(\n"
     ]
    }
   ],
   "source": [
    "from langchain.llms import OpenAI\n",
    "from langchain.chains import LLMChain\n",
    "\n",
    "llm = OpenAI(temperature=0.7)\n",
    "chain1 = LLMChain(llm=llm,prompt=prompt)"
   ]
  },
  {
   "cell_type": "code",
   "execution_count": 5,
   "metadata": {},
   "outputs": [
    {
     "name": "stderr",
     "output_type": "stream",
     "text": [
      "c:\\Python312\\Lib\\site-packages\\langchain_core\\_api\\deprecation.py:117: LangChainDeprecationWarning: The function `run` was deprecated in LangChain 0.1.0 and will be removed in 0.2.0. Use invoke instead.\n",
      "  warn_deprecated(\n"
     ]
    },
    {
     "data": {
      "text/plain": [
       "\"\\n\\nSure, I'd be happy to act as your financial advisor and explain the basics of GDP. GDP stands for Gross Domestic Product and it is a measure of the total economic output of a country. In simple terms, it is the value of all goods and services produced within a country's borders in a specific time period, usually a year. GDP is often used as an indicator of a country's economic health and growth.\\n\\nThere are three main components that make up GDP: consumption, investment, and government spending. Consumption refers to the amount of money spent by individuals and households on goods and services. This includes things like groceries, clothing, and entertainment. Investment refers to the money spent by businesses on capital goods such as machinery and equipment, as well as the money spent on building new homes or expanding existing ones. Government spending includes all the money spent by the government on goods and services, such as infrastructure, education, and healthcare.\\n\\nGDP is calculated by adding up the total value of all these components. A country's GDP can either increase or decrease depending on changes in these components. For example, if people are spending more money on goods and services, consumption will increase and therefore GDP will increase. On the other hand, if businesses are not investing in new equipment or buildings\""
      ]
     },
     "execution_count": 5,
     "metadata": {},
     "output_type": "execute_result"
    }
   ],
   "source": [
    "chain1.run('GDP')"
   ]
  },
  {
   "cell_type": "code",
   "execution_count": 6,
   "metadata": {},
   "outputs": [
    {
     "data": {
      "text/plain": [
       "\" and personal finance.\\n\\nAs an acting financial advisor, my goal is to help people make informed decisions about their money and achieve financial stability. To do this, I will explain the basics of economics and personal finance in an easy way.\\n\\nEconomics is the study of how individuals and societies use their scarce resources to produce, distribute, and consume goods and services. It is a complex field, but there are a few key concepts that can help us understand the basics.\\n\\nFirst, let's talk about supply and demand. This is the foundation of economics. Supply refers to the amount of a good or service that is available, while demand refers to the desire or need for that good or service. When supply is low and demand is high, prices tend to go up. On the other hand, when supply is high and demand is low, prices tend to go down.\\n\\nNext, let's discuss inflation and deflation. Inflation is the general increase in prices over time, while deflation is the decrease in prices. Both can have a significant impact on our economy and our personal finances. Inflation can erode the purchasing power of our money, while deflation can lead to economic downturns.\\n\\nNow, let's move on to personal finance. This is the management of an individual's\""
      ]
     },
     "execution_count": 6,
     "metadata": {},
     "output_type": "execute_result"
    }
   ],
   "source": [
    "chain1.run('economics')"
   ]
  },
  {
   "cell_type": "code",
   "execution_count": 7,
   "metadata": {},
   "outputs": [
    {
     "data": {
      "text/plain": [
       "\", debt, and surplus.\\n\\nSure, I’d be happy to explain these concepts for you. As a financial advisor, it’s important for people to understand these terms and how they affect their personal finances.\\n\\nDeficit refers to the amount by which a government, company, or individual's spending exceeds their income. In simpler terms, it means spending more money than you are bringing in. This can lead to financial difficulties if the deficit continues over time.\\n\\nDebt, on the other hand, is the total amount of money that a government, company, or individual owes to others. This can include loans, credit card debt, or mortgages. When someone has a large amount of debt, it can be challenging to manage and may lead to high interest payments and difficulty making ends meet.\\n\\nA surplus, or budget surplus, occurs when there is excess income or revenue compared to expenses. This can happen when a government, company, or individual spends less money than they bring in. A surplus can be beneficial as it allows for savings and can help pay off debt.\\n\\nAs a financial advisor, I would recommend keeping track of your spending and income to ensure you are not consistently in a deficit. It’s important to have a budget and stick to it, as well as prioritize paying off any debt\""
      ]
     },
     "execution_count": 7,
     "metadata": {},
     "output_type": "execute_result"
    }
   ],
   "source": [
    "chain1.run('deficit')"
   ]
  },
  {
   "cell_type": "code",
   "execution_count": 8,
   "metadata": {},
   "outputs": [
    {
     "data": {
      "text/plain": [
       "\" loans\\n\\nSure, I'd be happy to explain the basics of collateral loans. A collateral loan is a type of loan where the borrower pledges an asset, such as a car, house, or valuable item, as security for the loan. This means that if the borrower is unable to repay the loan, the lender has the right to take possession of the asset and sell it to recover their money.\\n\\nCollateral loans are typically easier to obtain than unsecured loans, as the lender has a lower risk since they have the asset as security. This also means that collateral loans usually have lower interest rates than unsecured loans.\\n\\nIt's important for borrowers to carefully consider the value of the asset they are using as collateral and make sure it is worth more than the amount they are borrowing. Lenders will often only loan a percentage of the asset's value, known as the loan-to-value ratio, to mitigate their risk.\\n\\nIf the borrower is able to repay the loan, the asset will be returned to them after the loan is paid off. However, if they are unable to make payments, the lender may take possession of the asset and sell it to recover their money.\\n\\nOne benefit of collateral loans is that they can be used for a variety of purposes, such as buying a car,\""
      ]
     },
     "execution_count": 8,
     "metadata": {},
     "output_type": "execute_result"
    }
   ],
   "source": [
    "chain1.run('collateral')"
   ]
  }
 ],
 "metadata": {
  "kernelspec": {
   "display_name": "Python 3",
   "language": "python",
   "name": "python3"
  },
  "language_info": {
   "codemirror_mode": {
    "name": "ipython",
    "version": 3
   },
   "file_extension": ".py",
   "mimetype": "text/x-python",
   "name": "python",
   "nbconvert_exporter": "python",
   "pygments_lexer": "ipython3",
   "version": "3.12.0"
  }
 },
 "nbformat": 4,
 "nbformat_minor": 2
}
