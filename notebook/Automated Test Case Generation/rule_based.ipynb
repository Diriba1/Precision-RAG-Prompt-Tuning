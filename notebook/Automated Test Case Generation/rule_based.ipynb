{
 "cells": [
  {
   "cell_type": "code",
   "execution_count": null,
   "metadata": {},
   "outputs": [],
   "source": [
    "import os\n",
    "import openai\n",
    "from OpenAIAPIKey import openapikey as OPENAI_API_KEY\n",
    "os.environ[\"OPENAI_API_KEY\"] = 'OPENAI_API_KEY'"
   ]
  },
  {
   "cell_type": "code",
   "execution_count": null,
   "metadata": {},
   "outputs": [],
   "source": [
    "\n",
    "# Set your OpenAI API key\n",
    "openai.api_key = \"OPENAI_API_KEY\"\n",
    "\n",
    "def generate_test_cases(prompt, rules):\n",
    "    test_cases = []\n",
    "    for rule in rules:\n",
    "        # Apply rule to generate a modified prompt\n",
    "        modified_prompt = rule(prompt)\n",
    "\n",
    "        # Use OpenAI API to generate text for the modified prompt\n",
    "        response = openai.Completion.create(\n",
    "            engine=\"text-davinci-003\",\n",
    "            prompt=modified_prompt,\n",
    "            max_tokens=150,  # Adjust as needed\n",
    "            n=1,\n",
    "            stop=None,\n",
    "            temperature=0.7,  # Adjust for creativity\n",
    "        )\n",
    "\n",
    "        test_cases.append((modified_prompt, response.choices[0].text))\n",
    "\n",
    "    return test_cases\n",
    "\n",
    "# Define the prompt you want to test\n",
    "prompt = \"Write a poem about a sunflower.\"  # Now prompt is defined\n",
    "\n",
    "# Define specific rules\n",
    "rules = [\n",
    "    lambda prompt: prompt + \" Make sure the poem is grammatically correct.\",\n",
    "    lambda prompt: prompt + \" Write a short poem, about 5 lines long.\",\n",
    "    lambda prompt: prompt + \" Write a longer poem, about 15 lines long.\",\n",
    "    lambda prompt: prompt + \" Use metaphors and similes to describe the sunflower.\",\n",
    "    # Add more rules as needed\n",
    "]\n",
    "\n",
    "# Generate test cases\n",
    "test_cases = generate_test_cases(prompt, rules)\n",
    "\n",
    "# Print the generated test cases\n",
    "for prompt, response in test_cases:\n",
    "    print(\"Prompt:\", prompt)\n",
    "    print(\"Response:\", response)\n",
    "    print(\"------------------\")\n"
   ]
  }
 ],
 "metadata": {
  "kernelspec": {
   "display_name": "Python 3",
   "language": "python",
   "name": "python3"
  },
  "language_info": {
   "codemirror_mode": {
    "name": "ipython",
    "version": 3
   },
   "file_extension": ".py",
   "mimetype": "text/x-python",
   "name": "python",
   "nbconvert_exporter": "python",
   "pygments_lexer": "ipython3",
   "version": "3.12.0"
  }
 },
 "nbformat": 4,
 "nbformat_minor": 2
}
