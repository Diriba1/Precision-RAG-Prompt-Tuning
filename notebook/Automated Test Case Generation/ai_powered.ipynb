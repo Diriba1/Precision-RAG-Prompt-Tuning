{
 "cells": [
  {
   "cell_type": "code",
   "execution_count": null,
   "metadata": {},
   "outputs": [],
   "source": [
    "import os\n",
    "import openai\n",
    "from OpenAIAPIKey import openapikey as OPENAI_API_KEY\n",
    "os.environ[\"OPENAI_API_KEY\"] = 'OPENAI_API_KEY'"
   ]
  },
  {
   "cell_type": "code",
   "execution_count": null,
   "metadata": {},
   "outputs": [],
   "source": [
    "\n",
    "\n",
    "# Set your OpenAI API key\n",
    "openai.api_key = \"OPENAI_API_KEY\"\n",
    "\n",
    "def generate_ai_powered_test_cases(prompt):\n",
    "    test_cases = []\n",
    "\n",
    "    # Use a loop to generate multiple test cases with different approaches\n",
    "    for i in range(5):  # Adjust the number of test cases as needed\n",
    "        response = openai.Client.create_completion(\n",
    "            engine=\"text-davinci-003\",\n",
    "            prompt=prompt,\n",
    "            max_tokens=200,  # Adjust as needed\n",
    "            n=1,\n",
    "            stop=None,\n",
    "            temperature=0.8,  # Adjust for creativity\n",
    "        )\n",
    "\n",
    "        test_cases.append(response.choices[0].text)\n",
    "\n",
    "    return test_cases\n",
    "\n",
    "# Define the prompt for AI-powered test case generation\n",
    "prompt = \"Write a test case to validate the login functionality of a website. Consider edge cases, security vulnerabilities, and different input combinations.\"\n",
    "\n",
    "# Generate test cases\n",
    "test_cases = generate_ai_powered_test_cases(prompt)\n",
    "\n",
    "# Print the generated test cases (review for validity and effectiveness)\n",
    "for test_case in test_cases:\n",
    "    print(\"Test Case:\", test_case)\n",
    "    print(\"------------------\")\n"
   ]
  }
 ],
 "metadata": {
  "kernelspec": {
   "display_name": "Python 3",
   "language": "python",
   "name": "python3"
  },
  "language_info": {
   "codemirror_mode": {
    "name": "ipython",
    "version": 3
   },
   "file_extension": ".py",
   "mimetype": "text/x-python",
   "name": "python",
   "nbconvert_exporter": "python",
   "pygments_lexer": "ipython3",
   "version": "3.12.0"
  }
 },
 "nbformat": 4,
 "nbformat_minor": 2
}
